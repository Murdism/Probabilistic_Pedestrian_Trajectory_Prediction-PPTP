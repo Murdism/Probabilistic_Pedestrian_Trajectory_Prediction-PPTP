{
 "cells": [
  {
   "cell_type": "code",
   "execution_count": 1,
   "metadata": {},
   "outputs": [],
   "source": [
    "import torch\n",
    "import torch.nn as nn"
   ]
  },
  {
   "cell_type": "code",
   "execution_count": 2,
   "metadata": {},
   "outputs": [],
   "source": [
    "class Encoder(nn.Module):\n",
    "    def __init__(self, d_model, nhead):\n",
    "        super(Encoder, self).__init__()\n",
    "        self.encoder = nn.TransformerEncoder(nn.TransformerEncoderLayer(d_model, nhead), num_layers=1)\n",
    "\n",
    "    def forward(self, src, src_mask=None):\n",
    "        output = self.encoder(src, src_mask)\n",
    "        return output\n",
    "\n",
    "class Decoder(nn.Module):\n",
    "    def __init__(self, d_model, nhead):\n",
    "        super(Decoder, self).__init__()\n",
    "        self.decoder = nn.TransformerDecoder(nn.TransformerDecoderLayer(d_model, nhead), num_layers=1)\n",
    "\n",
    "    def forward(self, tgt, memory, tgt_mask=None):\n",
    "        output = self.decoder(tgt, memory, tgt_mask)\n",
    "        return output\n",
    "\n",
    "class Generator(nn.Module):\n",
    "    def __init__(self, d_model, vocab_size):\n",
    "        super(Generator, self).__init__()\n",
    "        self.projection = nn.Linear(d_model, vocab_size)\n",
    "\n",
    "    def forward(self, x):\n",
    "        output = self.projection(x)\n",
    "        return output\n",
    "\n",
    "class EncoderDecoderTransformer(nn.Module):\n",
    "    def __init__(self, encoder, decoder, generator):\n",
    "        super(EncoderDecoderTransformer, self).__init__()\n",
    "        self.encoder = encoder\n",
    "        self.decoder = decoder\n",
    "        self.generator = generator\n",
    "\n",
    "    def forward(self, src, tgt, src_mask=None, tgt_mask=None):\n",
    "        memory = self.encoder(src, src_mask)\n",
    "        output = self.decoder(tgt, memory, tgt_mask)\n",
    "        return self.generator(output)\n",
    "\n",
    "def inference(model, src, src_mask, max_len=100):\n",
    "    model.eval()\n",
    "    with torch.no_grad():\n",
    "        memory = model.encoder(src, src_mask)\n",
    "        tgt = torch.ones(1, 1).fill_(SOS_TOKEN).type_as(src.data)\n",
    "        decoded = []\n",
    "        for i in range(max_len):\n",
    "            output = model.decoder(tgt, memory, tgt_mask)\n",
    "            prediction = model.generator(output[:, -1])\n",
    "            predicted_token = prediction.argmax(1).item()\n",
    "            if predicted_token == EOS_TOKEN:\n",
    "                break\n",
    "            decoded.append(predicted_token)\n",
    "            tgt = torch.cat([tgt, prediction.argmax(1).unsqueeze(1)], dim=1)\n",
    "        return decoded"
   ]
  }
 ],
 "metadata": {
  "kernelspec": {
   "display_name": "mdn",
   "language": "python",
   "name": "python3"
  },
  "language_info": {
   "codemirror_mode": {
    "name": "ipython",
    "version": 3
   },
   "file_extension": ".py",
   "mimetype": "text/x-python",
   "name": "python",
   "nbconvert_exporter": "python",
   "pygments_lexer": "ipython3",
   "version": "3.10.6"
  },
  "orig_nbformat": 4,
  "vscode": {
   "interpreter": {
    "hash": "97275231ca3bc88d4d425f48fe4700083adb1bbc86d99b7fab9639fa13d0f98b"
   }
  }
 },
 "nbformat": 4,
 "nbformat_minor": 2
}
